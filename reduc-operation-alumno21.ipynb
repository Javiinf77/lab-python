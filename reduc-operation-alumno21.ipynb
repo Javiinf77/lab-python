{
 "cells": [
  {
   "cell_type": "markdown",
   "id": "f942d288-be01-42cd-9b84-83529c6769be",
   "metadata": {},
   "source": [
    "### Reduction operation: the sum of the numbers in the range [0, a)"
   ]
  },
  {
   "cell_type": "code",
   "execution_count": 1,
   "id": "496946fa-2a28-4c1d-8a6a-2ee0b8fd8ced",
   "metadata": {},
   "outputs": [
    {
     "name": "stdout",
     "output_type": "stream",
     "text": [
      "[A.1] Tiempo con bucle for en lista: 0.447293 segundos\n",
      "[A.2] Tiempo con función sum en lista: 0.032065 segundos\n",
      "[B.1] Tiempo con bucle for en array de NumPy: 0.895218 segundos\n",
      "[B.2] Tiempo con numpy.sum: 0.003520 segundos\n",
      "\n",
      "[Resultados y conclusiones]\n",
      "- Código original: Operación poco optimizada usando un bucle for.\n",
      "- Listas:\n",
      "  - Bucle for: Método más lento que sum.\n",
      "  - Función sum: Más rápida debido a su implementación optimizada.\n",
      "- NumPy:\n",
      "  - Bucle for: Similar en tiempo al uso de listas.\n",
      "  - numpy.sum: Mucho más rápido, aprovechando la vectorización.\n",
      "Conclusión: NumPy es la mejor opción para cálculos científicos de alto rendimiento.\n"
     ]
    }
   ],
   "source": [
    "# Importamos las librerías necesarias\n",
    "import time\n",
    "import numpy as np\n",
    "\n",
    "# ===========================================\n",
    "# A) Operación de Reducción con Listas\n",
    "# ===========================================\n",
    "\n",
    "# Creación de una lista de Python\n",
    "value = 10**6\n",
    "python_list = list(range(value))\n",
    "\n",
    "# Suma utilizando un bucle for\n",
    "start_time = time.time()\n",
    "total_sum_list_for = 0\n",
    "for num in python_list:\n",
    "    total_sum_list_for += num\n",
    "end_time = time.time()\n",
    "print(f\"[A.1] Tiempo con bucle for en lista: {end_time - start_time:.6f} segundos\")\n",
    "\n",
    "# Suma utilizando la función sum de Python\n",
    "start_time = time.time()\n",
    "total_sum_list_sum = sum(python_list)\n",
    "end_time = time.time()\n",
    "print(f\"[A.2] Tiempo con función sum en lista: {end_time - start_time:.6f} segundos\")\n",
    "\n",
    "# ===========================================\n",
    "# B) Operación de Reducción con NumPy Arrays\n",
    "# ===========================================\n",
    "\n",
    "# Conversión de la lista a un array de NumPy\n",
    "numpy_array = np.array(python_list)\n",
    "\n",
    "# Suma utilizando un bucle for\n",
    "start_time = time.time()\n",
    "total_sum_array_for = 0\n",
    "for num in numpy_array:\n",
    "    total_sum_array_for += num\n",
    "end_time = time.time()\n",
    "print(f\"[B.1] Tiempo con bucle for en array de NumPy: {end_time - start_time:.6f} segundos\")\n",
    "\n",
    "# Suma utilizando la función numpy.sum\n",
    "start_time = time.time()\n",
    "total_sum_array_sum = np.sum(numpy_array)\n",
    "end_time = time.time()\n",
    "print(f\"[B.2] Tiempo con numpy.sum: {end_time - start_time:.6f} segundos\")\n",
    "\n",
    "# ===========================================\n",
    "# C) Explicación de Resultados\n",
    "# ===========================================\n",
    "\n",
    "print(\"\\n[Resultados y conclusiones]\")\n",
    "print(\"- Código original: Operación poco optimizada usando un bucle for.\")\n",
    "print(\"- Listas:\")\n",
    "print(\"  - Bucle for: Método más lento que sum.\")\n",
    "print(\"  - Función sum: Más rápida debido a su implementación optimizada.\")\n",
    "print(\"- NumPy:\")\n",
    "print(\"  - Bucle for: Similar en tiempo al uso de listas.\")\n",
    "print(\"  - numpy.sum: Mucho más rápido, aprovechando la vectorización.\")\n",
    "print(\"Conclusión: NumPy es la mejor opción para cálculos científicos de alto rendimiento.\")\n"
   ]
  },
  {
   "cell_type": "code",
   "execution_count": null,
   "id": "3c6faf2a-6986-4023-be66-672c3be5d193",
   "metadata": {},
   "outputs": [],
   "source": []
  }
 ],
 "metadata": {
  "kernelspec": {
   "display_name": "Python 3 (ipykernel)",
   "language": "python",
   "name": "python3"
  },
  "language_info": {
   "codemirror_mode": {
    "name": "ipython",
    "version": 3
   },
   "file_extension": ".py",
   "mimetype": "text/x-python",
   "name": "python",
   "nbconvert_exporter": "python",
   "pygments_lexer": "ipython3",
   "version": "3.10.9"
  }
 },
 "nbformat": 4,
 "nbformat_minor": 5
}
